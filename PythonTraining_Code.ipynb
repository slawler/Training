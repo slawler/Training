{
 "cells": [
  {
   "cell_type": "markdown",
   "metadata": {
    "slideshow": {
     "slide_type": "slide"
    }
   },
   "source": [
    "## Examples: Numbers, Variables & Operators: "
   ]
  },
  {
   "cell_type": "code",
   "execution_count": null,
   "metadata": {
    "collapsed": false
   },
   "outputs": [],
   "source": [
    "#Python as a calculator\n",
    "#help('/')"
   ]
  },
  {
   "cell_type": "raw",
   "metadata": {},
   "source": [
    "\n",
    "\n",
    "\n",
    "\n",
    "\n",
    "\n",
    "\n",
    "\n",
    "\n",
    "\n",
    "\n",
    "\n",
    "\n",
    "\n",
    "\n",
    "\n",
    "\n",
    "\n",
    "\n",
    "\n"
   ]
  },
  {
   "cell_type": "code",
   "execution_count": null,
   "metadata": {
    "collapsed": false,
    "slideshow": {
     "slide_type": "subslide"
    }
   },
   "outputs": [],
   "source": [
    "#Assign variables \n",
    "\n",
    "# ==> Readability counts.\n",
    "\n",
    "number1 = 5\n",
    "\n",
    "number2 = 10 \n",
    "\n",
    "result = number1 + number2   "
   ]
  },
  {
   "cell_type": "raw",
   "metadata": {},
   "source": [
    " \n",
    "    \n",
    "    \n",
    "    \n",
    "    \n",
    "    \n",
    "    \n",
    "    \n",
    "    \n",
    "    \n",
    "    \n",
    "    \n",
    "    \n",
    "    \n",
    "    "
   ]
  },
  {
   "cell_type": "code",
   "execution_count": null,
   "metadata": {
    "collapsed": false,
    "slideshow": {
     "slide_type": "subslide"
    }
   },
   "outputs": [],
   "source": [
    "# ==> Explicit is better than implicit.\n",
    "\n",
    "#number1 = 5\n",
    "#number2 =10\n",
    "\n",
    "result = number1 / number2\n",
    "\n",
    "print result   #What is the type?\n",
    "\n",
    "print 'result= ', type(result)"
   ]
  },
  {
   "cell_type": "raw",
   "metadata": {},
   "source": [
    "\n",
    "\n",
    "\n",
    "\n",
    "\n",
    "\n",
    "\n",
    "\n",
    "\n",
    "\n",
    "\n",
    "\n"
   ]
  },
  {
   "cell_type": "markdown",
   "metadata": {},
   "source": [
    "## Examples: Strings"
   ]
  },
  {
   "cell_type": "code",
   "execution_count": null,
   "metadata": {
    "collapsed": false,
    "slideshow": {
     "slide_type": "slide"
    }
   },
   "outputs": [],
   "source": [
    "#---Assign strings\n",
    "\n",
    "str1 = \"Double Quotes make strings in Python 2 or 3\"\n",
    "\n",
    "str2 = 'and single quotes make strings in python 2, but not in python 3'\n",
    "\n",
    "#---Concatenate\n",
    "\n",
    "sentence = str1 + str2\n",
    "\n",
    "print sentence"
   ]
  },
  {
   "cell_type": "raw",
   "metadata": {},
   "source": [
    "\n",
    "\n",
    "\n",
    "\n",
    "\n",
    "\n",
    "\n",
    "\n",
    "\n",
    "\n",
    "\n",
    "\n",
    "\n",
    "\n"
   ]
  },
  {
   "cell_type": "code",
   "execution_count": null,
   "metadata": {
    "collapsed": false,
    "slideshow": {
     "slide_type": "slide"
    }
   },
   "outputs": [],
   "source": [
    "#Assign strings\n",
    "\n",
    "sentence = str1 + str2\n",
    "\n",
    "#Split\n",
    "\n",
    "#first_letter = sentence[0] \n",
    "\n",
    "#print first_letter\n",
    "\n",
    "#first_word = str1[0:5]\n",
    "\n",
    "#print first_word"
   ]
  },
  {
   "cell_type": "raw",
   "metadata": {
    "collapsed": true
   },
   "source": [
    "\n",
    "\n",
    "\n",
    "\n",
    "\n",
    "\n",
    "\n",
    "\n",
    "\n",
    "\n",
    "\n",
    "\n"
   ]
  },
  {
   "cell_type": "code",
   "execution_count": null,
   "metadata": {
    "collapsed": false,
    "slideshow": {
     "slide_type": "slide"
    }
   },
   "outputs": [],
   "source": [
    "#Working with strings\n",
    "\n",
    "#--Built-in function for strings: Split\n",
    "\n",
    "word = sentence.split(' ')[0]\n",
    "\n",
    "#print word\n",
    "\n",
    "#--Length function\n",
    "#print len(word)"
   ]
  },
  {
   "cell_type": "raw",
   "metadata": {
    "collapsed": true
   },
   "source": [
    "\n",
    "\n",
    "\n",
    "\n",
    "\n",
    "\n",
    "\n",
    "\n",
    "\n",
    "\n",
    "\n",
    "\n",
    "\n",
    "\n"
   ]
  },
  {
   "cell_type": "markdown",
   "metadata": {},
   "source": [
    "## Examples: Containers"
   ]
  },
  {
   "cell_type": "code",
   "execution_count": null,
   "metadata": {
    "collapsed": false,
    "slideshow": {
     "slide_type": "slide"
    }
   },
   "outputs": [],
   "source": [
    "#---LISTS\n",
    "return_pd = ['10yr','25yr','50yr','100yr','500yr']\n",
    "\n",
    "#print return_pd\n",
    "\n",
    "#selection = return_pd[0] \n",
    "\n",
    "#selection = print return_pd[-1] \n",
    "\n",
    "#selection = print return_pd[1:3] \n",
    "\n",
    "#print selection"
   ]
  },
  {
   "cell_type": "raw",
   "metadata": {
    "collapsed": true
   },
   "source": [
    "\n",
    "\n",
    "\n",
    "\n",
    "\n",
    "\n",
    "\n",
    "\n",
    "\n",
    "\n",
    "\n",
    "\n",
    "\n",
    "\n"
   ]
  },
  {
   "cell_type": "code",
   "execution_count": null,
   "metadata": {
    "collapsed": false
   },
   "outputs": [],
   "source": [
    "#---LISTS, continued\n",
    "return_pd = ['10yr','25yr','50yr','100yr','500yr']\n",
    "\n",
    "#---Insert\n",
    "#print return_pd.insert(0,'5yr') #(position,new_item)\n",
    "\n",
    "#---Append\n",
    "#return_pd.append('1000yr')\n",
    "\n",
    "#---Replace\n",
    "#return_pd[0] = '2yr'\n",
    "\n",
    "#---Remove\n",
    "#print return_pd.remove('100yr')\n",
    "#return_pd.remove('50yr')\n",
    "\n",
    "print return_pd"
   ]
  },
  {
   "cell_type": "raw",
   "metadata": {},
   "source": [
    "\n",
    "\n",
    "\n",
    "\n",
    "\n",
    "\n",
    "\n"
   ]
  },
  {
   "cell_type": "code",
   "execution_count": null,
   "metadata": {
    "collapsed": false,
    "slideshow": {
     "slide_type": "slide"
    }
   },
   "outputs": [],
   "source": [
    "#---TUPLES\n",
    "sfha = ('A','AE','D','X')\n",
    "\n",
    "#print sfha\n",
    "\n",
    "#print sfha[0]\n",
    "\n",
    "#print sfha[-1]\n",
    "\n",
    "#print sfha[1:3]"
   ]
  },
  {
   "cell_type": "raw",
   "metadata": {},
   "source": [
    "\n",
    "\n",
    "\n",
    "\n",
    "\n",
    "\n",
    "\n",
    "\n",
    "\n",
    "\n"
   ]
  },
  {
   "cell_type": "code",
   "execution_count": null,
   "metadata": {
    "collapsed": false,
    "slideshow": {
     "slide_type": "slide"
    }
   },
   "outputs": [],
   "source": [
    "#---DICTS\n",
    "pct_chance = {'10yr':1,'25yr':4,'50yr':2,'100yr':1,'500yr':0.02}    \n",
    "\n",
    "#print pct_chance\n",
    "\n",
    "#print pct_chance['10yr']"
   ]
  },
  {
   "cell_type": "raw",
   "metadata": {},
   "source": [
    "\n",
    "\n",
    "\n",
    "\n",
    "\n",
    "\n",
    "\n",
    "\n",
    "\n",
    "\n"
   ]
  },
  {
   "cell_type": "code",
   "execution_count": null,
   "metadata": {
    "collapsed": false,
    "slideshow": {
     "slide_type": "slide"
    }
   },
   "outputs": [],
   "source": [
    "#---Check Type\n",
    "\n",
    "#print type(return_pd)\n",
    "\n",
    "#print type(sfha)\n",
    "\n",
    "#print type(pct_chance)\n",
    "\n",
    "#print type(return_pd[0])\n",
    "\n",
    "#print type(pct_chance['10yr'])\n",
    "\n",
    "#print type(pct_chance['500yr'])"
   ]
  },
  {
   "cell_type": "raw",
   "metadata": {
    "collapsed": true
   },
   "source": [
    "\n",
    "\n",
    "\n",
    "\n",
    "\n",
    "\n",
    "\n",
    "\n",
    "\n",
    "\n",
    "\n"
   ]
  },
  {
   "cell_type": "code",
   "execution_count": null,
   "metadata": {
    "collapsed": false,
    "slideshow": {
     "slide_type": "slide"
    }
   },
   "outputs": [],
   "source": [
    "#---Mixed Types\n",
    "\n",
    "# ==> Simple is better than complex:\n",
    "\n",
    "SIBTC = {'a':(1,2,3),'b':[4,5,6],'c':{'7':7,'8':8},'d':[[9,10,11],[12,13,14]]}\n",
    "\n",
    "#print type(SIBTC['a']),SIBTC['a']\n",
    "\n",
    "#print type(SIBTC['b']),SIBTC['b']\n",
    "\n",
    "#print type(SIBTC['c']),SIBTC['c']\n",
    "\n",
    "#print type(SIBTC['d']),SIBTC['d']\n"
   ]
  },
  {
   "cell_type": "raw",
   "metadata": {},
   "source": [
    "\n",
    "\n",
    "\n",
    "\n",
    "\n",
    "\n",
    "\n",
    "\n",
    "\n",
    "\n",
    "\n",
    "\n"
   ]
  },
  {
   "cell_type": "markdown",
   "metadata": {
    "slideshow": {
     "slide_type": "slide"
    }
   },
   "source": [
    "## Examples: Functions"
   ]
  },
  {
   "cell_type": "code",
   "execution_count": null,
   "metadata": {
    "collapsed": false,
    "slideshow": {
     "slide_type": "slide"
    }
   },
   "outputs": [],
   "source": [
    "#Write a function to make a datum shift in UTM Zone 18 to update from nad27 to nvd88\n",
    "\n",
    "def ShiftDatum(z):\n",
    "    # Note to user (usually the writer of the code)\n",
    "    elevation = z - 0.51\n",
    "    return elevation\n",
    "\n",
    "#---Update the elevation for a point in nad27\n",
    "\n",
    "#point = 251\n",
    "#print ShiftDatum(point)"
   ]
  },
  {
   "cell_type": "raw",
   "metadata": {},
   "source": [
    "\n",
    "\n",
    "\n",
    "\n",
    "\n",
    "\n",
    "\n",
    "\n",
    "\n",
    "\n",
    "\n"
   ]
  },
  {
   "cell_type": "markdown",
   "metadata": {
    "slideshow": {
     "slide_type": "slide"
    }
   },
   "source": [
    "## Examples: Iteration & Looping"
   ]
  },
  {
   "cell_type": "code",
   "execution_count": null,
   "metadata": {
    "collapsed": false,
    "slideshow": {
     "slide_type": "slide"
    }
   },
   "outputs": [],
   "source": [
    "#Use the built in range function to iterate for a given interval \n",
    "\n",
    "for i in range(10):\n",
    "    print i\n"
   ]
  },
  {
   "cell_type": "raw",
   "metadata": {},
   "source": [
    "\n",
    "\n",
    "\n",
    "\n",
    "\n",
    "\n",
    "\n",
    "\n",
    "\n",
    "\n",
    "\n",
    "\n",
    "\n",
    "\n"
   ]
  },
  {
   "cell_type": "code",
   "execution_count": null,
   "metadata": {
    "collapsed": false,
    "slideshow": {
     "slide_type": "slide"
    }
   },
   "outputs": [],
   "source": [
    "#Loop through a range with a specified stride    \n",
    "\n",
    "for i in range(0,10,2):\n",
    "    print i\n",
    "    \n",
    "#for i in range(10,0,-2):\n",
    "#    print i    "
   ]
  },
  {
   "cell_type": "raw",
   "metadata": {},
   "source": [
    "\n",
    "\n",
    "\n",
    "\n",
    "\n",
    "\n",
    "\n",
    "\n",
    "\n",
    "\n",
    "\n",
    "\n"
   ]
  },
  {
   "cell_type": "code",
   "execution_count": null,
   "metadata": {
    "collapsed": false,
    "slideshow": {
     "slide_type": "slide"
    }
   },
   "outputs": [],
   "source": [
    "#Iterate through a list\n",
    "\n",
    "for pd in return_pd:\n",
    "    print pd"
   ]
  },
  {
   "cell_type": "raw",
   "metadata": {},
   "source": [
    "\n",
    "\n",
    "\n",
    "\n",
    "\n",
    "\n",
    "\n",
    "\n",
    "\n",
    "\n",
    "\n",
    "\n",
    "\n"
   ]
  },
  {
   "cell_type": "code",
   "execution_count": null,
   "metadata": {
    "collapsed": false,
    "slideshow": {
     "slide_type": "slide"
    }
   },
   "outputs": [],
   "source": [
    "#Iterate through a tuple:\n",
    "\n",
    "for zone in sfha:\n",
    "    print zone "
   ]
  },
  {
   "cell_type": "raw",
   "metadata": {},
   "source": [
    "\n",
    "\n",
    "\n",
    "\n",
    "\n",
    "\n",
    "\n",
    "\n",
    "\n",
    "\n",
    "\n",
    "\n",
    "\n"
   ]
  },
  {
   "cell_type": "code",
   "execution_count": null,
   "metadata": {
    "collapsed": false,
    "slideshow": {
     "slide_type": "slide"
    }
   },
   "outputs": [],
   "source": [
    "#Iterate through a dictionary\n",
    "\n",
    "for key in pct_chance:\n",
    "    print key\n",
    "    #print pct_chance[key]\n",
    "    #print key, pct_chance[key]"
   ]
  },
  {
   "cell_type": "raw",
   "metadata": {},
   "source": [
    "\n",
    "\n",
    "\n",
    "\n",
    "\n",
    "\n",
    "\n",
    "\n",
    "\n",
    "\n",
    "\n",
    "\n"
   ]
  },
  {
   "cell_type": "code",
   "execution_count": null,
   "metadata": {
    "collapsed": false,
    "slideshow": {
     "slide_type": "slide"
    }
   },
   "outputs": [],
   "source": [
    "#Enumerate---A very powerful tool\n",
    "\n",
    "for i,zone in enumerate(sfha):\n",
    "    print i"
   ]
  },
  {
   "cell_type": "raw",
   "metadata": {},
   "source": [
    "\n",
    "\n",
    "\n",
    "\n",
    "\n",
    "\n",
    "\n",
    "\n",
    "\n",
    "\n",
    "\n",
    "\n"
   ]
  },
  {
   "cell_type": "markdown",
   "metadata": {
    "slideshow": {
     "slide_type": "slide"
    }
   },
   "source": [
    "## Examples: Conditionals\n"
   ]
  },
  {
   "cell_type": "code",
   "execution_count": null,
   "metadata": {
    "collapsed": false,
    "slideshow": {
     "slide_type": "slide"
    }
   },
   "outputs": [],
   "source": [
    "#---Boolean Test:\n",
    "\n",
    "1 == 2\n",
    "\n",
    "1 != 2\n",
    "\n",
    "#---Boolean testing of containers\n",
    "print '10yr' in return_pd\n",
    "\n",
    "print 'A' in sfha\n",
    "\n",
    "print '11yr' in pct_chance"
   ]
  },
  {
   "cell_type": "raw",
   "metadata": {},
   "source": [
    " \n",
    "\n",
    "\n",
    "\n",
    "\n",
    "\n",
    "\n",
    "\n",
    "\n",
    "\n",
    "\n"
   ]
  },
  {
   "cell_type": "code",
   "execution_count": null,
   "metadata": {
    "collapsed": false,
    "slideshow": {
     "slide_type": "slide"
    }
   },
   "outputs": [],
   "source": [
    "#---Applying a Boolean Test: the if statement\n",
    "\n",
    "for zone in sfha:\n",
    "    if zone == 'AE':\n",
    "        print 'Not where I want my house'    "
   ]
  },
  {
   "cell_type": "raw",
   "metadata": {},
   "source": [
    "\n",
    "\n",
    "\n",
    "\n",
    "\n",
    "\n",
    "\n",
    "\n",
    "\n",
    "\n",
    "\n"
   ]
  },
  {
   "cell_type": "code",
   "execution_count": null,
   "metadata": {
    "collapsed": false,
    "slideshow": {
     "slide_type": "slide"
    }
   },
   "outputs": [],
   "source": [
    "#---Applying a Boolean Test: the if statement with an else if modifier\n",
    "\n",
    "for zone in sfha:\n",
    "    if zone == 'AE':\n",
    "        print zone\n",
    "        print 'Not a great place to be'   \n",
    "    elif zone == 'D':\n",
    "        print zone\n",
    "        print \"This feels alot like AE...\""
   ]
  },
  {
   "cell_type": "raw",
   "metadata": {},
   "source": [
    "\n",
    "\n",
    "\n",
    "\n",
    "\n",
    "\n",
    "\n",
    "\n",
    "\n",
    "\n",
    "\n",
    "\n",
    "\n",
    "\n"
   ]
  },
  {
   "cell_type": "code",
   "execution_count": null,
   "metadata": {
    "collapsed": false,
    "slideshow": {
     "slide_type": "slide"
    }
   },
   "outputs": [],
   "source": [
    "#---Applying a Boolean Test: if, else if, else\n",
    "\n",
    "for zone in sfha:\n",
    "    if zone == 'AE':\n",
    "        print zone\n",
    "        print 'Not a great place to be'   \n",
    "    elif zone == 'D':\n",
    "        print zone\n",
    "        print 'This feels alot like AE'\n",
    "    else:\n",
    "        print zone\n",
    "        print 'It could be worse'"
   ]
  }
 ],
 "metadata": {
  "kernelspec": {
   "display_name": "Python 2",
   "language": "python",
   "name": "python2"
  },
  "language_info": {
   "codemirror_mode": {
    "name": "ipython",
    "version": 2
   },
   "file_extension": ".py",
   "mimetype": "text/x-python",
   "name": "python",
   "nbconvert_exporter": "python",
   "pygments_lexer": "ipython2",
   "version": "2.7.11"
  }
 },
 "nbformat": 4,
 "nbformat_minor": 0
}
