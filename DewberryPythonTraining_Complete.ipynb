{
 "cells": [
  {
   "cell_type": "markdown",
   "metadata": {
    "slideshow": {
     "slide_type": "slide"
    }
   },
   "source": [
    "# Python Programming Series\n",
    "\n",
    "###    Part 1: Introduction to the Python Language\n",
    "\n",
    "import this\n",
    "\n",
    "The Zen of Python, by Tim Peters\n",
    "\n",
    "    Beautiful is better than ugly. \n",
    "    Explicit is better than implicit. \n",
    "    Simple is better than complex.\n",
    "    Complex is better than complicated.\n",
    "    Flat is better than nested.\n",
    "    Sparse is better than dense.\n",
    "    Readability counts.\n",
    "    Special cases aren't special enough to break the rules.\n",
    "    Although practicality beats purity.\n",
    "    Errors should never pass silently.\n",
    "    Unless explicitly silenced.\n",
    "    In the face of ambiguity, refuse the temptation to guess.\n",
    "    There should be one-- and preferably only one --obvious way to do it.\n",
    "    Although that way may not be obvious at first unless you're Dutch.\n",
    "    Now is better than never.\n",
    "    Although never is often better than *right* now.\n",
    "    If the implementation is hard to explain, it's a bad idea.\n",
    "    If the implementation is easy to explain, it may be a good idea.\n",
    "    Namespaces are one honking great idea -- let's do more of those!\n",
    "\n",
    "*Python Essential Reference, David Beazley\n",
    "    \n",
    "http://www.bogotobogo.com/python/files/pytut/Python%20Essential%20Reference,%20Fourth%20Edition%20(2009).pdf\n",
    "\n",
    "*The Zen of Python\n",
    "    \n",
    "https://www.python.org/dev/peps/pep-0020/"
   ]
  },
  {
   "cell_type": "markdown",
   "metadata": {
    "slideshow": {
     "slide_type": "slide"
    }
   },
   "source": [
    "# Topics:\n",
    "    Interacting with Python \n",
    "    Numbers & Variables\n",
    "    Basic Operators\n",
    "    Strings\n",
    "    Type Assignments\n",
    "    Containers\n",
    "    Functions\n",
    "    Iteration & Looping\n",
    "    Conditionals\n",
    "    Modules"
   ]
  },
  {
   "cell_type": "markdown",
   "metadata": {
    "slideshow": {
     "slide_type": "slide"
    }
   },
   "source": [
    "## Interacting with the Console\n",
    "\n",
    "ArcMAP: Console, Field Calculator\n",
    "\n",
    "Idle, Spyder and the Jupyter Notebook\n",
    "    \n",
    "        \n",
    "\n",
    "*Anaconda (Jupyter Notebook & Spyder)\n",
    "    \n",
    "https://www.continuum.io/downloads"
   ]
  },
  {
   "cell_type": "markdown",
   "metadata": {
    "slideshow": {
     "slide_type": "slide"
    }
   },
   "source": [
    "## Numbers \n",
    "\n",
    "Built in Numeric Types for Python:\n",
    "\n",
    "    integers      : 1, 3, 10, 20,...\n",
    "    \n",
    "    long integers : 12345678910, 12345678911... \n",
    "  \n",
    "    float         : 1., 3.0, 10.232626,...\n",
    "    \n",
    "    complex       : 1j, 6j,...\n",
    "    \n",
    "    \n",
    "## Variables\n",
    "\n",
    "Types inferred:\n",
    "\n",
    "    int_1   = 5\n",
    "\n",
    "    lng_1   = 332161461654614561\n",
    "\n",
    "    flt_1   = 0.362654\n",
    "\n",
    "    cmplx_1 = 6j \n",
    "\n",
    "#### Explicitly Assign type\n",
    "\n",
    "    float_1 = float(5)\n",
    "   \n",
    "\n",
    "* Python/C API Reference Manual\n",
    "https://docs.python.org/2/c-api/concrete.html\n"
   ]
  },
  {
   "cell_type": "markdown",
   "metadata": {
    "slideshow": {
     "slide_type": "slide"
    }
   },
   "source": [
    "## Basic Operators and Arithmetic Expressions\n",
    "\n",
    "http://www.tutorialspoint.com/python/python_basic_operators.htm\n"
   ]
  },
  {
   "cell_type": "markdown",
   "metadata": {
    "slideshow": {
     "slide_type": "slide"
    }
   },
   "source": [
    "## Examples: Numbers, Variables & Operators: "
   ]
  },
  {
   "cell_type": "code",
   "execution_count": 3,
   "metadata": {
    "collapsed": false,
    "slideshow": {
     "slide_type": "subslide"
    }
   },
   "outputs": [],
   "source": [
    "number1 = 5  #Assign a variable\n",
    "number2 = 3  #Assign a second variable\n",
    "\n",
    "result = number1 + number2   #Do some math.\n"
   ]
  },
  {
   "cell_type": "code",
   "execution_count": 5,
   "metadata": {
    "collapsed": false,
    "slideshow": {
     "slide_type": "subslide"
    }
   },
   "outputs": [
    {
     "name": "stdout",
     "output_type": "stream",
     "text": [
      "1\n"
     ]
    }
   ],
   "source": [
    "result = number1 / number2\n",
    "\n",
    "print result"
   ]
  },
  {
   "cell_type": "code",
   "execution_count": 9,
   "metadata": {
    "collapsed": false,
    "slideshow": {
     "slide_type": "subslide"
    }
   },
   "outputs": [
    {
     "name": "stdout",
     "output_type": "stream",
     "text": [
      "1\n",
      "result=  <type 'int'>\n"
     ]
    }
   ],
   "source": [
    "result = number1 / number2\n",
    "\n",
    "print result   #What is the type?\n",
    "print 'result= ', type(result)"
   ]
  },
  {
   "cell_type": "markdown",
   "metadata": {
    "slideshow": {
     "slide_type": "slide"
    }
   },
   "source": [
    "### Strings\n",
    "\n",
    "#### Many ways to assign a string to a variable:\n",
    "\n",
    "    str1 = \"Double Quotes make strings\"\n",
    "\n",
    "    str2 = 'and single quotes make strings in python 2'\n",
    "\n",
    "    str3 = str(3)\n",
    "\n",
    "    str4 = str('3')\n",
    "\n",
    "    str5 = str(number1)\n",
    "\n",
    "####    Concatenating Strings:\n",
    "    \n",
    "    str1 + str2 = 'Double Quotes make strings and single quotes make strings in python 2'   \n",
    "    \n",
    "####    Splitting Strings:\n",
    "    str1[0]         #---Prints the zeroth element of the string\n",
    "\n",
    "    str1.split('')  #---Splits a string based on a given seperator: \" \"  or  \",\" or \".\" etc.   \n",
    "    "
   ]
  },
  {
   "cell_type": "code",
   "execution_count": 10,
   "metadata": {
    "collapsed": false,
    "slideshow": {
     "slide_type": "slide"
    }
   },
   "outputs": [
    {
     "name": "stdout",
     "output_type": "stream",
     "text": [
      "Double Quotes make strings in Python 2 or 3and single quotes make strings in python 2, but not in python 3\n"
     ]
    }
   ],
   "source": [
    "#---Assign strings\n",
    "str1 = \"Double Quotes make strings in Python 2 or 3\"\n",
    "str2 = 'and single quotes make strings in python 2, but not in python 3'\n",
    "\n",
    "#---Concatenate\n",
    "sentence = str1 + str2\n",
    "print sentence"
   ]
  },
  {
   "cell_type": "code",
   "execution_count": 15,
   "metadata": {
    "collapsed": false,
    "slideshow": {
     "slide_type": "slide"
    }
   },
   "outputs": [
    {
     "name": "stdout",
     "output_type": "stream",
     "text": [
      "D\n",
      "Doubl\n"
     ]
    }
   ],
   "source": [
    "#Assign strings\n",
    "str1 = \"Double Quotes make strings in Python 2 or 3\"\n",
    "str2 = 'and single quotes make strings in python 2, but not in python 3'\n",
    "\n",
    "#Split\n",
    "first_letter = str1[0] \n",
    "first_word = str1[0:5]\n",
    "\n",
    "\n",
    "print first_letter\n",
    "print first_word"
   ]
  },
  {
   "cell_type": "code",
   "execution_count": 16,
   "metadata": {
    "collapsed": false,
    "slideshow": {
     "slide_type": "slide"
    }
   },
   "outputs": [
    {
     "name": "stdout",
     "output_type": "stream",
     "text": [
      "First Letter is  D\n",
      "First Word is Doubl\n"
     ]
    }
   ],
   "source": [
    "#Assign strings\n",
    "str1 = \"Double Quotes make strings in Python 2 or 3\"\n",
    "str2 = 'and single quotes make strings in python 2, but not in python 3'\n",
    "\n",
    "print 'First Letter is ',first_letter\n",
    "print 'First Word is',first_word\n",
    "\n",
    "#---Sting Method\n",
    "#print str1.split(' ')[0]\n",
    "#len(str1)"
   ]
  },
  {
   "cell_type": "markdown",
   "metadata": {
    "slideshow": {
     "slide_type": "slide"
    }
   },
   "source": [
    "### Containers\n",
    "\n",
    "#### Lists \n",
    "Assign using square brackets\n",
    "    \n",
    "    return_pd = ['10yr','25yr','50yr','100yr','500yr']\n",
    "\n",
    "Select items in a list:\n",
    "\n",
    "    return_pd[0]   = '10yr'\n",
    "    return_pd[-1]  = '500yr'\n",
    "    return_pd[1:3] = ['25yr','50yr']\n",
    "    \n",
    "#### Tuples\n",
    "Assigned using parenthesis\n",
    "    \n",
    "    sfha = ('A','AE','D','X')\n",
    "Select items in a tuple:\n",
    "\n",
    "    sfha[0]   = 'A'\n",
    "    sfha[-1]  = 'X'\n",
    "    sfha[1:3] = ('AE','D')\n",
    "    \n",
    "#### Dictionaries\n",
    "Assigned using Curly Brackets, with key-value pairs  \n",
    "\n",
    "    pct_chance = {'10yr':1,'25yr':4,'50yr':2,'100yr':1,'500yr':0.02}\n",
    "\n",
    "Select items in a dict:\n",
    "    \n",
    "    pct_chance['10yr'] = 1 \n",
    "\n",
    "*http://www.tutorialspoint.com/python/python_variable_types.htm"
   ]
  },
  {
   "cell_type": "code",
   "execution_count": 18,
   "metadata": {
    "collapsed": false,
    "slideshow": {
     "slide_type": "slide"
    }
   },
   "outputs": [
    {
     "name": "stdout",
     "output_type": "stream",
     "text": [
      "10yr\n",
      "500yr\n",
      "['25yr', '50yr']\n"
     ]
    }
   ],
   "source": [
    "#---LISTS\n",
    "return_pd = ['10yr','25yr','50yr','100yr','500yr']\n",
    "print return_pd[0] \n",
    "print return_pd[-1] \n",
    "print return_pd[1:3] "
   ]
  },
  {
   "cell_type": "code",
   "execution_count": 19,
   "metadata": {
    "collapsed": false,
    "slideshow": {
     "slide_type": "slide"
    }
   },
   "outputs": [
    {
     "name": "stdout",
     "output_type": "stream",
     "text": [
      "A\n",
      "X\n",
      "('AE', 'D')\n"
     ]
    }
   ],
   "source": [
    "#---TUPLES\n",
    "sfha = ('A','AE','D','X')\n",
    "print sfha[0]\n",
    "print sfha[-1]\n",
    "print sfha[1:3]\n",
    "pct_chance = {'10yr':'1 pct','25yr':'4 pct','50yr':'2 pct','100yr':'1 pct','500yr':'0.02 pct'}"
   ]
  },
  {
   "cell_type": "code",
   "execution_count": 20,
   "metadata": {
    "collapsed": false,
    "slideshow": {
     "slide_type": "slide"
    }
   },
   "outputs": [
    {
     "name": "stdout",
     "output_type": "stream",
     "text": [
      "1\n"
     ]
    }
   ],
   "source": [
    "#---DICTS\n",
    "pct_chance = {'10yr':1,'25yr':4,'50yr':2,'100yr':1,'500yr':0.02}    \n",
    "print pct_chance['10yr']"
   ]
  },
  {
   "cell_type": "code",
   "execution_count": 21,
   "metadata": {
    "collapsed": false,
    "slideshow": {
     "slide_type": "slide"
    }
   },
   "outputs": [
    {
     "name": "stdout",
     "output_type": "stream",
     "text": [
      "<type 'list'>\n",
      "<type 'tuple'>\n",
      "<type 'dict'>\n",
      "<type 'str'>\n",
      "<type 'int'>\n",
      "<type 'float'>\n"
     ]
    }
   ],
   "source": [
    "#---Check Type\n",
    "print type(return_pd)\n",
    "print type(sfha)\n",
    "print type(pct_chance)\n",
    "\n",
    "print type(return_pd[0])\n",
    "print type(pct_chance['10yr'])\n",
    "print type(pct_chance['500yr'])"
   ]
  },
  {
   "cell_type": "code",
   "execution_count": 22,
   "metadata": {
    "collapsed": false,
    "slideshow": {
     "slide_type": "slide"
    }
   },
   "outputs": [
    {
     "name": "stdout",
     "output_type": "stream",
     "text": [
      "<type 'tuple'> (1, 2, 3)\n",
      "<type 'list'> [4, 5, 6]\n",
      "<type 'dict'> {'8': 8, '7': 7}\n",
      "<type 'list'> [[9, 10, 11], [12, 13, 14]]\n"
     ]
    }
   ],
   "source": [
    "#---Mixed Types \n",
    "theKitchenSink = {'a':(1,2,3),'b':[4,5,6],'c':{'7':7,'8':8},'d':[[9,10,11],[12,13,14]]}\n",
    "print type(theKitchenSink['a']),theKitchenSink['a']\n",
    "print type(theKitchenSink['b']),theKitchenSink['b']\n",
    "print type(theKitchenSink['c']),theKitchenSink['c']\n",
    "print type(theKitchenSink['d']),theKitchenSink['d']"
   ]
  },
  {
   "cell_type": "markdown",
   "metadata": {
    "slideshow": {
     "slide_type": "slide"
    }
   },
   "source": [
    "### Functions\n",
    "\n",
    "*http://www.tutorialspoint.com/python/python_functions.htm"
   ]
  },
  {
   "cell_type": "code",
   "execution_count": 23,
   "metadata": {
    "collapsed": false,
    "slideshow": {
     "slide_type": "slide"
    }
   },
   "outputs": [
    {
     "name": "stdout",
     "output_type": "stream",
     "text": [
      "250.49\n"
     ]
    }
   ],
   "source": [
    "#Write a function to make a datum shift in UTM Zone 18 to update from nad27 to nvd88\n",
    "\n",
    "def ShiftDatum(z):\n",
    "    #This function is only valid for points located in UTM 18\n",
    "    #Units Must be in Feet\n",
    "    elevation = z - 0.51\n",
    "    return elevation\n",
    "\n",
    "#---Update the elevation for a point in nad27\n",
    "point = 251\n",
    "print ShiftDatum(point)\n",
    "    "
   ]
  },
  {
   "cell_type": "markdown",
   "metadata": {
    "slideshow": {
     "slide_type": "slide"
    }
   },
   "source": [
    "### Iteration & Looping"
   ]
  },
  {
   "cell_type": "code",
   "execution_count": 24,
   "metadata": {
    "collapsed": false,
    "slideshow": {
     "slide_type": "slide"
    }
   },
   "outputs": [
    {
     "name": "stdout",
     "output_type": "stream",
     "text": [
      "0\n",
      "1\n",
      "2\n",
      "3\n",
      "4\n",
      "5\n",
      "6\n",
      "7\n",
      "8\n",
      "9\n"
     ]
    }
   ],
   "source": [
    "#Use the built in range function to iterate for a given interval \n",
    "for i in range(10):\n",
    "    print i\n"
   ]
  },
  {
   "cell_type": "code",
   "execution_count": 25,
   "metadata": {
    "collapsed": false,
    "slideshow": {
     "slide_type": "slide"
    }
   },
   "outputs": [
    {
     "name": "stdout",
     "output_type": "stream",
     "text": [
      "0\n",
      "2\n",
      "4\n",
      "6\n",
      "8\n",
      "10\n",
      "8\n",
      "6\n",
      "4\n",
      "2\n"
     ]
    }
   ],
   "source": [
    "#Loop through a range with a specified stride    \n",
    "for i in range(0,10,2):\n",
    "    print i\n",
    "    \n",
    "for i in range(10,0,-2):\n",
    "    print i    "
   ]
  },
  {
   "cell_type": "code",
   "execution_count": 26,
   "metadata": {
    "collapsed": false,
    "slideshow": {
     "slide_type": "slide"
    }
   },
   "outputs": [
    {
     "name": "stdout",
     "output_type": "stream",
     "text": [
      "10yr\n",
      "25yr\n",
      "50yr\n",
      "100yr\n",
      "500yr\n"
     ]
    }
   ],
   "source": [
    "#Iterate through a list\n",
    "for pd in return_pd:\n",
    "    print pd"
   ]
  },
  {
   "cell_type": "code",
   "execution_count": 27,
   "metadata": {
    "collapsed": false,
    "slideshow": {
     "slide_type": "slide"
    }
   },
   "outputs": [
    {
     "name": "stdout",
     "output_type": "stream",
     "text": [
      "A\n",
      "AE\n",
      "D\n",
      "X\n"
     ]
    }
   ],
   "source": [
    "#Iterate through a tuple:\n",
    "for zone in sfha:\n",
    "    print zone "
   ]
  },
  {
   "cell_type": "code",
   "execution_count": 30,
   "metadata": {
    "collapsed": false,
    "slideshow": {
     "slide_type": "slide"
    }
   },
   "outputs": [
    {
     "name": "stdout",
     "output_type": "stream",
     "text": [
      "100yr 1\n",
      "50yr 2\n",
      "25yr 4\n",
      "10yr 1\n",
      "500yr 0.02\n"
     ]
    }
   ],
   "source": [
    "#Iterate through a dictionary\n",
    "for key in pct_chance:\n",
    "    #print key\n",
    "    #print pct_chance[key]\n",
    "    print key, pct_chance[key]"
   ]
  },
  {
   "cell_type": "code",
   "execution_count": 31,
   "metadata": {
    "collapsed": false,
    "slideshow": {
     "slide_type": "slide"
    }
   },
   "outputs": [
    {
     "name": "stdout",
     "output_type": "stream",
     "text": [
      "0\n",
      "1\n",
      "2\n",
      "3\n"
     ]
    }
   ],
   "source": [
    "#Enumerate---A very powerful tool\n",
    "for i,zone in enumerate(sfha):\n",
    "    print i"
   ]
  },
  {
   "cell_type": "markdown",
   "metadata": {
    "slideshow": {
     "slide_type": "slide"
    }
   },
   "source": [
    "### Conditionals\n",
    "\n",
    "*Operators\n",
    "    \n",
    "http://www.tutorialspoint.com/python/python_basic_operators.htm"
   ]
  },
  {
   "cell_type": "code",
   "execution_count": 35,
   "metadata": {
    "collapsed": false,
    "slideshow": {
     "slide_type": "slide"
    }
   },
   "outputs": [
    {
     "name": "stdout",
     "output_type": "stream",
     "text": [
      "True\n",
      "True\n",
      "False\n"
     ]
    }
   ],
   "source": [
    "#---Boolean Test:\n",
    "1 == 2\n",
    "1 != 2\n",
    "\n",
    "#---Boolean testing of containers\n",
    "print '10yr' in return_pd\n",
    "print 'A' in sfha\n",
    "print '11yr' in pct_chance"
   ]
  },
  {
   "cell_type": "code",
   "execution_count": 36,
   "metadata": {
    "collapsed": false,
    "slideshow": {
     "slide_type": "slide"
    }
   },
   "outputs": [
    {
     "name": "stdout",
     "output_type": "stream",
     "text": [
      "You are in the flood zone, Fema is about to make some money\n"
     ]
    }
   ],
   "source": [
    "#---Applying a Boolean Test: the if statement\n",
    "for zone in sfha:\n",
    "    if zone == 'AE':\n",
    "        print 'You are in the flood zone, Fema is about to make some money'    "
   ]
  },
  {
   "cell_type": "code",
   "execution_count": 37,
   "metadata": {
    "collapsed": false,
    "slideshow": {
     "slide_type": "slide"
    }
   },
   "outputs": [
    {
     "name": "stdout",
     "output_type": "stream",
     "text": [
      "AE\n",
      "You are in the flood zone, Fema is about to make some money\n",
      "D\n",
      "Your Insurance company is about to give you some bad news\n"
     ]
    }
   ],
   "source": [
    "#---Applying a Boolean Test: the if statement with an else if modifier\n",
    "for zone in sfha:\n",
    "    if zone == 'AE':\n",
    "        print zone\n",
    "        print 'You are in the flood zone, Fema is about to make some money'   \n",
    "    elif zone == 'D':\n",
    "        print zone\n",
    "        print 'Your Insurance company is about to give you some bad news'"
   ]
  },
  {
   "cell_type": "code",
   "execution_count": 38,
   "metadata": {
    "collapsed": false,
    "slideshow": {
     "slide_type": "slide"
    }
   },
   "outputs": [
    {
     "name": "stdout",
     "output_type": "stream",
     "text": [
      "A\n",
      "It could be worse\n",
      "AE\n",
      "You are in the flood zone, Fema is about to make some money\n",
      "D\n",
      "Your Insurance company is about to give you some bad news\n",
      "X\n",
      "It could be worse\n"
     ]
    }
   ],
   "source": [
    "#---Applying a Boolean Test: if, else if, else\n",
    "for zone in sfha:\n",
    "    if zone == 'AE':\n",
    "        print zone\n",
    "        print 'You are in the flood zone, Fema is about to make some money'   \n",
    "    elif zone == 'D':\n",
    "        print zone\n",
    "        print 'Your Insurance company is about to give you some bad news'\n",
    "    else:\n",
    "        print zone\n",
    "        print 'It could be worse'"
   ]
  },
  {
   "cell_type": "markdown",
   "metadata": {
    "slideshow": {
     "slide_type": "slide"
    }
   },
   "source": [
    "### Modules\n",
    "\n",
    "Modules or libraries are simply pre-written codes saved in a single file (or collection of files) to perform specific tasks. For geospatial applications, the arcpy module is an ESRI licesned and protected collection of scripts that perform functions on raster and vector datasets for geospatial analysis and manipulation. \n",
    "\n",
    "More on that next time."
   ]
  },
  {
   "cell_type": "markdown",
   "metadata": {
    "slideshow": {
     "slide_type": "slide"
    }
   },
   "source": [
    "### Next Time\n",
    "\n",
    "#### Examples from Dewberry Projects:\n",
    "\n",
    "\n",
    "     -Exploiting Python for GIS applications: Python Snippets, Field Calculator, Map Labels\n",
    "     -Useful modules for daily tasks: arcpy, glob, numpy, os\n",
    "     -Using lists, tuples & dictionaries effectively\n",
    "     -Using iterations and loops--with and without Conditional Statments \n",
    "     -Functions, functions and functions\n"
   ]
  },
  {
   "cell_type": "markdown",
   "metadata": {
    "slideshow": {
     "slide_type": "slide"
    }
   },
   "source": [
    "### Questions? "
   ]
  }
 ],
 "metadata": {
  "celltoolbar": "Slideshow",
  "kernelspec": {
   "display_name": "Python 2",
   "language": "python",
   "name": "python2"
  },
  "language_info": {
   "codemirror_mode": {
    "name": "ipython",
    "version": 2
   },
   "file_extension": ".py",
   "mimetype": "text/x-python",
   "name": "python",
   "nbconvert_exporter": "python",
   "pygments_lexer": "ipython2",
   "version": "2.7.11"
  }
 },
 "nbformat": 4,
 "nbformat_minor": 0
}
