{
 "cells": [
  {
   "cell_type": "markdown",
   "metadata": {
    "slideshow": {
     "slide_type": "slide"
    }
   },
   "source": [
    "# Python Programming Series\n",
    "\n",
    "###    Part 1: Introduction to the Python Language\n",
    "\n",
    "import this\n",
    "\n",
    "The Zen of Python, by Tim Peters\n",
    "\n",
    "    Beautiful is better than ugly. \n",
    "    Explicit is better than implicit. \n",
    "    Simple is better than complex.\n",
    "    Complex is better than complicated.\n",
    "    Flat is better than nested.\n",
    "    Sparse is better than dense.\n",
    "    Readability counts.\n",
    "    Special cases aren't special enough to break the rules.\n",
    "    Although practicality beats purity.\n",
    "    Errors should never pass silently.\n",
    "    Unless explicitly silenced.\n",
    "    In the face of ambiguity, refuse the temptation to guess.\n",
    "    There should be one-- and preferably only one --obvious way to do it.\n",
    "    Although that way may not be obvious at first unless you're Dutch.\n",
    "    Now is better than never.\n",
    "    Although never is often better than *right* now.\n",
    "    If the implementation is hard to explain, it's a bad idea.\n",
    "    If the implementation is easy to explain, it may be a good idea.\n",
    "    Namespaces are one honking great idea -- let's do more of those!\n",
    "\n",
    "*Python Essential Reference, David Beazley\n",
    "    \n",
    "http://www.bogotobogo.com/python/files/pytut/Python%20Essential%20Reference,%20Fourth%20Edition%20(2009).pdf\n",
    "\n",
    "*The Zen of Python\n",
    "    \n",
    "https://www.python.org/dev/peps/pep-0020/"
   ]
  },
  {
   "cell_type": "markdown",
   "metadata": {
    "slideshow": {
     "slide_type": "slide"
    }
   },
   "source": [
    "# Topics:\n",
    "\n",
    "###    Interacting with Python \n",
    "###    Numbers & Variables\n",
    "###    Basic Operators\n",
    "###    Strings\n",
    "###    Type Assignments\n",
    "###    Containers\n",
    "###    Functions\n",
    "###    Iteration & Looping\n",
    "###    Conditionals\n",
    "###    Modules"
   ]
  },
  {
   "cell_type": "markdown",
   "metadata": {
    "slideshow": {
     "slide_type": "slide"
    }
   },
   "source": [
    "# Interacting with the Python\n",
    "\n",
    "## ArcMAP: \n",
    "###   - Console \n",
    "###   - Field Calculator\n",
    "###   - Label Expressions (I think...)\n",
    "\n",
    "## IDLE\n",
    "\n",
    "### Spyder, Jupyter Notebook, Eclipse, NetBeans....\n",
    "    \n",
    "       \n",
    "\n",
    "##### *Anaconda (Jupyter Notebook & Spyder)\n",
    "    \n",
    "https://www.continuum.io/downloads"
   ]
  },
  {
   "cell_type": "markdown",
   "metadata": {
    "slideshow": {
     "slide_type": "slide"
    }
   },
   "source": [
    "## Numbers \n",
    "\n",
    "Built in Numeric Types for Python:\n",
    "\n",
    "    integers      : 1, 3, 10, 20,...\n",
    "    \n",
    "    long integers : 12345678910, 12345678911... \n",
    "  \n",
    "    float         : 1., 3.0, 10.232626,...\n",
    "    \n",
    "    complex       : 1j, 6j,...\n",
    "    \n",
    "\n"
   ]
  },
  {
   "cell_type": "markdown",
   "metadata": {
    "slideshow": {
     "slide_type": "slide"
    }
   },
   "source": [
    "    \n",
    "## Variables\n",
    "\n",
    "Types inferred:\n",
    "\n",
    "    int_1   = 5\n",
    "\n",
    "    lng_1   = 332161461654614561\n",
    "\n",
    "    flt_1   = 0.362654\n",
    "\n",
    "    cmplx_1 = 6j \n",
    "\n"
   ]
  },
  {
   "cell_type": "markdown",
   "metadata": {
    "slideshow": {
     "slide_type": "slide"
    }
   },
   "source": [
    "#### Explicitly Assign type\n",
    "\n",
    "    float_1 = float(5)\n",
    "   \n",
    "\n",
    "* Python/C API Reference Manual\n",
    "\n",
    "https://docs.python.org/2/c-api/concrete.html"
   ]
  },
  {
   "cell_type": "markdown",
   "metadata": {
    "slideshow": {
     "slide_type": "slide"
    }
   },
   "source": [
    "## Basic Operators and Arithmetic Expressions\n",
    "\n",
    "http://www.tutorialspoint.com/python/python_basic_operators.htm\n"
   ]
  },
  {
   "cell_type": "markdown",
   "metadata": {
    "slideshow": {
     "slide_type": "slide"
    }
   },
   "source": [
    "## Examples: Numbers, Variables & Operators: "
   ]
  },
  {
   "cell_type": "markdown",
   "metadata": {
    "slideshow": {
     "slide_type": "slide"
    }
   },
   "source": [
    "### Strings\n",
    "\n",
    "#### Many ways to assign a string to a variable:\n",
    "\n",
    "    str1 = \"Double Quotes make strings\"\n",
    "\n",
    "    str2 = 'and single quotes make strings **'\n",
    "\n",
    "    str3 = str(3)\n",
    "\n",
    "    str4 = str(number1)\n",
    "\n"
   ]
  },
  {
   "cell_type": "markdown",
   "metadata": {
    "slideshow": {
     "slide_type": "subslide"
    }
   },
   "source": [
    "####    Concatenating Strings:\n",
    "    \n",
    "    str1 + str2 = 'Double Quotes make strings and single quotes make strings **'   \n",
    "    \n",
    "\n",
    "    "
   ]
  },
  {
   "cell_type": "markdown",
   "metadata": {
    "slideshow": {
     "slide_type": "subslide"
    }
   },
   "source": [
    "####    Splitting Strings:\n",
    "    str1[0]         #---Prints the zeroth element of the string\n",
    "\n",
    "    str1.split('')  #---Splits a string based on a given seperator:\n",
    "                \n",
    "                \" \" \n",
    "                \",\" \n",
    "                \".\" \n",
    "                \"\\t\""
   ]
  },
  {
   "cell_type": "markdown",
   "metadata": {
    "slideshow": {
     "slide_type": "slide"
    }
   },
   "source": [
    "## Examples: Strings "
   ]
  },
  {
   "cell_type": "markdown",
   "metadata": {
    "slideshow": {
     "slide_type": "slide"
    }
   },
   "source": [
    "### Containers\n",
    "\n",
    "#### Lists \n",
    "Assign using square brackets\n",
    "    \n",
    "    return_pd = ['10yr','25yr','50yr','100yr','500yr']\n",
    "\n",
    "Select items in a list:\n",
    "\n",
    "    return_pd[0]   = '10yr'\n",
    "    return_pd[-1]  = '500yr'\n",
    "    return_pd[1:3] = ['25yr','50yr']\n",
    " "
   ]
  },
  {
   "cell_type": "markdown",
   "metadata": {
    "slideshow": {
     "slide_type": "subslide"
    }
   },
   "source": [
    "   \n",
    "#### Tuples\n",
    "Assigned using parenthesis\n",
    "    \n",
    "    sfha = ('A','AE','D','X')\n",
    "Select items in a tuple:\n",
    "\n",
    "    sfha[0]   = 'A'\n",
    "    sfha[-1]  = 'X'\n",
    "    sfha[1:3] = ('AE','D')\n",
    "    \n"
   ]
  },
  {
   "cell_type": "markdown",
   "metadata": {
    "slideshow": {
     "slide_type": "subslide"
    }
   },
   "source": [
    "#### Dictionaries\n",
    "Assigned using Curly Brackets, with key-value pairs  \n",
    "\n",
    "    pct_chance = {'10yr':1,'25yr':4,'50yr':2,'100yr':1,'500yr':0.02}\n",
    "\n",
    "Select items in a dict:\n",
    "    \n",
    "    pct_chance['10yr'] = 1 \n",
    "\n",
    "*http://www.tutorialspoint.com/python/python_variable_types.htm"
   ]
  },
  {
   "cell_type": "markdown",
   "metadata": {
    "slideshow": {
     "slide_type": "slide"
    }
   },
   "source": [
    "## Examples: Containers"
   ]
  },
  {
   "cell_type": "markdown",
   "metadata": {
    "slideshow": {
     "slide_type": "slide"
    }
   },
   "source": [
    "## Iteration & Looping"
   ]
  },
  {
   "cell_type": "markdown",
   "metadata": {
    "slideshow": {
     "slide_type": "slide"
    }
   },
   "source": [
    "## Conditionals\n",
    "\n",
    "*Operators\n",
    "    \n",
    "http://www.tutorialspoint.com/python/python_basic_operators.htm"
   ]
  },
  {
   "cell_type": "markdown",
   "metadata": {
    "slideshow": {
     "slide_type": "slide"
    }
   },
   "source": [
    "## Modules\n",
    "\n",
    "Modules or libraries are simply pre-written codes saved in a single file (or collection of files) to perform specific tasks. For geospatial applications, the arcpy module is an ESRI licesned and protected collection of scripts that perform functions on raster and vector datasets for geospatial analysis and manipulation. \n",
    "\n",
    "More on that next time."
   ]
  },
  {
   "cell_type": "markdown",
   "metadata": {
    "slideshow": {
     "slide_type": "slide"
    }
   },
   "source": [
    "# Next Time\n",
    "\n",
    "## Examples from Dewberry Projects:\n",
    "\n",
    "\n",
    "####     -Exploiting Python for GIS applications: \n",
    "    *Python Snippets \n",
    "    *Field Calculator\n",
    "    *Map Label Expressions\n",
    "####     -Useful modules for daily tasks: arcpy, glob, numpy, os\n",
    "####     -Using lists, tuples & dictionaries effectively\n",
    "####     -Using iterations and loops--with and without Conditional Statments \n",
    "####     -Functions, functions and functions\n"
   ]
  },
  {
   "cell_type": "markdown",
   "metadata": {
    "slideshow": {
     "slide_type": "slide"
    }
   },
   "source": [
    "### Questions? "
   ]
  }
 ],
 "metadata": {
  "kernelspec": {
   "display_name": "Python 2",
   "language": "python",
   "name": "python2"
  },
  "language_info": {
   "codemirror_mode": {
    "name": "ipython",
    "version": 2
   },
   "file_extension": ".py",
   "mimetype": "text/x-python",
   "name": "python",
   "nbconvert_exporter": "python",
   "pygments_lexer": "ipython2",
   "version": "2.7.11"
  }
 },
 "nbformat": 4,
 "nbformat_minor": 0
}
