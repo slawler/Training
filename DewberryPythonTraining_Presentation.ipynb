{
 "cells": [
  {
   "cell_type": "markdown",
   "metadata": {
    "slideshow": {
     "slide_type": "slide"
    }
   },
   "source": [
    "# Python Programming Series\n",
    "\n",
    "###    Part 1: Introduction to the Python Language\n",
    "\n",
    "\n",
    "\n",
    "<img src=\"Python_logo_web.jpg\">\n",
    "\n",
    "\n",
    "*Python Essential Reference, David Beazley\n",
    "    \n",
    "http://www.bogotobogo.com/python/files/pytut/Python%20Essential%20Reference,%20Fourth%20Edition%20(2009).pdf\n",
    "\n",
    "*The Zen of Python\n",
    "    \n",
    "https://www.python.org/dev/peps/pep-0020/"
   ]
  },
  {
   "cell_type": "markdown",
   "metadata": {
    "slideshow": {
     "slide_type": "slide"
    }
   },
   "source": [
    "# Topics: \n",
    "###    -Numbers & Variables  <span style=\"padding-left:130px\"> -Basic Operators\n",
    "###   -Strings <span style=\"padding-left:280px\"> -Type Assignments\n",
    "###   -Containers <span style=\"padding-left:240px\"> -Functions\n",
    "###   -Iteration & Looping <span style=\"padding-left:150px\"> -Conditionals\n",
    "###   -Modules"
   ]
  },
  {
   "cell_type": "markdown",
   "metadata": {
    "slideshow": {
     "slide_type": "slide"
    }
   },
   "source": [
    "# Interacting with the Python\n",
    "\n",
    "## IDLE\n",
    "\n",
    "## ArcMAP: \n",
    "###   - Console \n",
    "###   - Field Calculator\n",
    "###   - Label Expressions (I think...)\n",
    "\n",
    "    \n",
    "## *Anaconda (Spyder & Jupyter Notebook)\n",
    "<img src=\"anaconda.png\" height=\"100\" width=\"100\" style=\"left;\"> \n",
    "https://www.continuum.io/downloads"
   ]
  },
  {
   "cell_type": "markdown",
   "metadata": {
    "slideshow": {
     "slide_type": "slide"
    }
   },
   "source": [
    "## Numbers \n",
    "    \n",
    "Built in Numeric Types for Python:\n",
    "<code><br /></code>    \n",
    "    \n",
    "                  \n",
    "    integers      : 1, 3, 10, 20,...\n",
    "    \n",
    "    long integers : 12345678910, 12345678911... \n",
    "  \n",
    "    float         : 1., 3.0, 10.232626,...\n",
    "    \n",
    "    complex       : 1j, 6j,...\n",
    "        \n",
    "               "
   ]
  },
  {
   "cell_type": "markdown",
   "metadata": {
    "slideshow": {
     "slide_type": "subslide"
    }
   },
   "source": [
    "    \n",
    "## Variables\n",
    "\n",
    "Types inferred:\n",
    "<code><br /></code>    \n",
    "\n",
    "    x = 5                  # int\n",
    "\n",
    "    x = 332161461654614561 # long\n",
    "\n",
    "    x = 0.362654           # float\n",
    "\n",
    "    x = 6j                 # complex \n",
    "        \n",
    "\n"
   ]
  },
  {
   "cell_type": "markdown",
   "metadata": {
    "slideshow": {
     "slide_type": "subslide"
    }
   },
   "source": [
    "#### Explicitly Assign type\n",
    "<code><br /></code>    \n",
    "\n",
    "    x = float(5)\n",
    "        \n",
    "\n",
    "https://docs.python.org/2/c-api/concrete.html"
   ]
  },
  {
   "cell_type": "markdown",
   "metadata": {
    "slideshow": {
     "slide_type": "slide"
    }
   },
   "source": [
    "## Basic Operators and Arithmetic Expressions\n",
    "<code><br /></code>    \n",
    "\n",
    "        +  Addition                      ** Exponent\n",
    "    \n",
    "        -  Subtraction                   == Equal to   \n",
    "    \n",
    "        *  Multiplication                != Not Equal to   \n",
    "                       \n",
    "        /  Division                      >= Less than/Equal to      \n",
    "        \n",
    "        // Floor                         >= Greater than/Equal to  \n",
    "        \n",
    "        %  Modulus\n",
    "\n",
    "\n",
    "http://www.tutorialspoint.com/python/python_basic_operators.htm\n",
    "\n",
    "## Examples: Numbers, Variables & Operators"
   ]
  },
  {
   "cell_type": "markdown",
   "metadata": {
    "slideshow": {
     "slide_type": "slide"
    }
   },
   "source": [
    "### Strings\n",
    "\n",
    "#### Many ways to assign a string to a variable:\n",
    "<code><br /></code>    \n",
    "\n",
    "    str1 = \"Special Flood Hazard Area\"\n",
    "\n",
    "    str2 = 'Zone AE'\n",
    "\n",
    "    str3 = str(3)\n",
    "\n",
    "    str4 = str(number1)\n",
    "        \n",
    "\n"
   ]
  },
  {
   "cell_type": "markdown",
   "metadata": {
    "slideshow": {
     "slide_type": "subslide"
    }
   },
   "source": [
    "####    Concatenating Strings:\n",
    "<code><br /></code>    \n",
    "\n",
    "    str1 = \"Special Flood Hazard Area\"\n",
    "    str2 = 'Zone AE'\n",
    "    \n",
    "    str1 + str2 = 'Special Flood Hazard Area Zone AE'   \n",
    "        \n",
    "        \n"
   ]
  },
  {
   "cell_type": "markdown",
   "metadata": {
    "slideshow": {
     "slide_type": "subslide"
    }
   },
   "source": [
    "####    Splitting Strings:\n",
    "<code><br /></code>    \n",
    "\n",
    "    str1[0]         #---Prints the zeroth element of the string\n",
    "\n",
    "    str1.split('')  #---Splits a string based on a given seperator:\n",
    "                \n",
    "                \" \" \n",
    "                \",\" \n",
    "                \".\" \n",
    "                \"\\t\"\n",
    "                    \n",
    "                "
   ]
  },
  {
   "cell_type": "markdown",
   "metadata": {
    "slideshow": {
     "slide_type": "subslide"
    }
   },
   "source": [
    "## Examples: Strings \n",
    "<code><br /></code>    \n",
    "\n"
   ]
  },
  {
   "cell_type": "markdown",
   "metadata": {
    "slideshow": {
     "slide_type": "slide"
    }
   },
   "source": [
    "### Containers\n",
    "\n",
    "#### Lists \n",
    "Assign using square brackets\n",
    "<code><br /></code>    \n",
    "\n",
    "    return_pd = ['10yr','25yr','50yr','100yr','500yr']\n",
    "        \n",
    "\n",
    "<code><br /></code>    \n",
    "Select items in a list:\n",
    "<code><br /></code>    \n",
    "\n",
    "    return_pd[0]   is '10yr'\n",
    "    return_pd[-1]  is '500yr'\n",
    "    return_pd[1:3] is ['25yr','50yr']\n",
    "        \n",
    " "
   ]
  },
  {
   "cell_type": "markdown",
   "metadata": {
    "slideshow": {
     "slide_type": "subslide"
    }
   },
   "source": [
    "   \n",
    "#### Tuples\n",
    "\n",
    "\n",
    "Assigned using parenthesis\n",
    "<code><br /></code>    \n",
    "\n",
    "    sfha = ('A','AE','D','X')\n",
    "        \n",
    "\n",
    "<code><br /></code>    \n",
    "Select items in a tuple:\n",
    "<code><br /></code>    \n",
    "\n",
    "    sfha[0]   is 'A'\n",
    "    sfha[-1]  is 'X'\n",
    "    sfha[1:3] is ('AE','D')\n",
    "        \n",
    "    "
   ]
  },
  {
   "cell_type": "markdown",
   "metadata": {
    "slideshow": {
     "slide_type": "subslide"
    }
   },
   "source": [
    "#### Dictionaries\n",
    "Assigned using Curly Brackets, with key-value pairs  \n",
    "<code><br /></code>    \n",
    "\n",
    "    pct_chance = {'10yr':1,'25yr':4,'50yr':2,'100yr':1,'500yr':0.02}\n",
    "        \n",
    "\n",
    "<code><br /></code>    \n",
    "Select items in a dict:\n",
    "<code><br /></code>    \n",
    "\n",
    "    pct_chance['10yr'] is 1\n",
    "        \n",
    "    \n",
    "*http://www.tutorialspoint.com/python/python_variable_types.htm"
   ]
  },
  {
   "cell_type": "markdown",
   "metadata": {
    "slideshow": {
     "slide_type": "slide"
    }
   },
   "source": [
    "## Examples: Containers\n",
    "<code><br /></code>    \n"
   ]
  },
  {
   "cell_type": "markdown",
   "metadata": {
    "slideshow": {
     "slide_type": "slide"
    }
   },
   "source": [
    "## Iteration & Looping\n",
    "<code><br /></code>    \n",
    "\n",
    "    Note: Indentation Matters!\n",
    "\n",
    "    a = 0\n",
    "    while a < 10:\n",
    "        a = a + 1\n",
    "        print(a)\n",
    "            \n",
    "            \n",
    " <code><br /></code>          \n",
    "## Examples     "
   ]
  },
  {
   "cell_type": "markdown",
   "metadata": {
    "slideshow": {
     "slide_type": "slide"
    }
   },
   "source": [
    "## Conditionals\n",
    "<code><br /></code>    \n",
    "\n",
    "    Add a test to each step of your loop.\n",
    "\n",
    "    a = 0\n",
    "    while a < 10:\n",
    "        a += 1\n",
    "        if a%2 == 0:\n",
    "            print(a)  \n",
    "            \n",
    "        else:\n",
    "            print \"These aren't the Drones you're looking for\"\n",
    "<code><br /></code>    \n",
    "## Examples\n",
    "\n",
    "http://www.tutorialspoint.com/python/python_basic_operators.htm"
   ]
  },
  {
   "cell_type": "markdown",
   "metadata": {
    "slideshow": {
     "slide_type": "slide"
    }
   },
   "source": [
    "## Modules\n",
    "<code><br /></code>    \n",
    "\n",
    "Modules or libraries are simply pre-written codes saved in a single file (or collection of files) to perform specific tasks. For geospatial applications, the arcpy module is an ESRI licesned and protected collection of scripts that perform functions on raster and vector datasets for geospatial analysis and manipulation. \n",
    "\n",
    "More on that next time.\n",
    "<code><br /></code>    \n"
   ]
  },
  {
   "cell_type": "markdown",
   "metadata": {
    "slideshow": {
     "slide_type": "slide"
    }
   },
   "source": [
    "# Next Time\n",
    "\n",
    "## Examples from Dewberry Projects:\n",
    "\n",
    "\n",
    "####     -Exploiting Python for GIS applications: \n",
    "<code><br /></code>    \n",
    "\n",
    "    *Python Snippets \n",
    "    *Field Calculator\n",
    "    *Map Label Expressions\n",
    "    \n",
    "####     -Useful modules for daily tasks: arcpy, glob, numpy, os\n",
    "####     -Using lists, tuples & dictionaries effectively\n",
    "####     -Using iterations and loops--with and without Conditional Statments \n",
    "####     -Functions, functions and functions\n",
    "<code><br /></code>    \n"
   ]
  },
  {
   "cell_type": "markdown",
   "metadata": {
    "slideshow": {
     "slide_type": "slide"
    }
   },
   "source": [
    "### Questions? \n",
    "<code><br /></code>    \n"
   ]
  }
 ],
 "metadata": {
  "celltoolbar": "Slideshow",
  "kernelspec": {
   "display_name": "Python 2",
   "language": "python",
   "name": "python2"
  },
  "language_info": {
   "codemirror_mode": {
    "name": "ipython",
    "version": 2
   },
   "file_extension": ".py",
   "mimetype": "text/x-python",
   "name": "python",
   "nbconvert_exporter": "python",
   "pygments_lexer": "ipython2",
   "version": "2.7.12"
  }
 },
 "nbformat": 4,
 "nbformat_minor": 0
}
